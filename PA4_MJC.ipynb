{
 "cells": [
  {
   "cell_type": "markdown",
   "id": "9378cea9",
   "metadata": {},
   "source": [
    "PA2 Matthew Carrico Ver 1.0 Fall 2022"
   ]
  },
  {
   "cell_type": "markdown",
   "id": "f307d625",
   "metadata": {},
   "source": [
    "append() can add one element to the end of the list\n"
   ]
  },
  {
   "cell_type": "markdown",
   "id": "0427e898",
   "metadata": {},
   "source": [
    "extend() can add Multiple element to the end of a list"
   ]
  },
  {
   "cell_type": "markdown",
   "id": "7a555c1e",
   "metadata": {},
   "source": [
    "insert() can insert element into a list anywhere in the list\n"
   ]
  },
  {
   "cell_type": "markdown",
   "id": "0c662c9d",
   "metadata": {},
   "source": [
    "remove() can remove element from list\n"
   ]
  },
  {
   "cell_type": "markdown",
   "id": "b89d8e9e",
   "metadata": {},
   "source": [
    "count() counts all elements in a list\n"
   ]
  },
  {
   "cell_type": "markdown",
   "id": "5a8e1b58",
   "metadata": {},
   "source": [
    "index() where an element is in the list\n"
   ]
  },
  {
   "cell_type": "markdown",
   "id": "b72e203c",
   "metadata": {},
   "source": [
    "pop() removes element from list based on index\n"
   ]
  },
  {
   "cell_type": "markdown",
   "id": "40f5f34a",
   "metadata": {},
   "source": [
    "sorted() sorts list based on elements values\n"
   ]
  },
  {
   "cell_type": "markdown",
   "id": "64f19925",
   "metadata": {},
   "source": [
    "copy() copies all elements in the list\n"
   ]
  },
  {
   "cell_type": "markdown",
   "id": "bb675fb0",
   "metadata": {},
   "source": [
    "clear() clears list of all elements\n"
   ]
  },
  {
   "cell_type": "markdown",
   "id": "96b0f3bc",
   "metadata": {},
   "source": [
    "list() creates a list object "
   ]
  },
  {
   "cell_type": "markdown",
   "id": "282c0ca2",
   "metadata": {},
   "source": [
    "len() returns the number of elements in an object"
   ]
  },
  {
   "cell_type": "markdown",
   "id": "864b46d8",
   "metadata": {},
   "source": [
    "max()returns the largest element in an object"
   ]
  },
  {
   "cell_type": "markdown",
   "id": "d964e768",
   "metadata": {},
   "source": [
    "min() returns the smallest element in an object"
   ]
  }
 ],
 "metadata": {
  "kernelspec": {
   "display_name": "Python 3 (ipykernel)",
   "language": "python",
   "name": "python3"
  },
  "language_info": {
   "codemirror_mode": {
    "name": "ipython",
    "version": 3
   },
   "file_extension": ".py",
   "mimetype": "text/x-python",
   "name": "python",
   "nbconvert_exporter": "python",
   "pygments_lexer": "ipython3",
   "version": "3.9.12"
  }
 },
 "nbformat": 4,
 "nbformat_minor": 5
}
