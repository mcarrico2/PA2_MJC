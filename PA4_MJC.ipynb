{
 "cells": [
  {
   "cell_type": "markdown",
   "id": "9378cea9",
   "metadata": {},
   "source": [
    "PA2 Matthew Carrico Ver 1.0 Fall 2022"
   ]
  },
  {
   "cell_type": "markdown",
   "id": "f307d625",
   "metadata": {},
   "source": [
    "append() can add one element to the end of the list\n"
   ]
  },
  {
   "cell_type": "code",
   "execution_count": 1,
   "id": "cbfdcb45",
   "metadata": {},
   "outputs": [
    {
     "name": "stdout",
     "output_type": "stream",
     "text": [
      "['JP', 'John', 'Bob', 'Luke']\n"
     ]
    }
   ],
   "source": [
    "names = ['JP', 'John', 'Bob']\n",
    "names.append('Luke')\n",
    "print(names)"
   ]
  },
  {
   "cell_type": "markdown",
   "id": "0427e898",
   "metadata": {},
   "source": [
    "extend() can add elements from a different list to another list"
   ]
  },
  {
   "cell_type": "code",
   "execution_count": 3,
   "id": "c78c6710",
   "metadata": {},
   "outputs": [
    {
     "name": "stdout",
     "output_type": "stream",
     "text": [
      "['JP', 'John', 'Bob', 'Luke', 'Gabe', 'Ben']\n"
     ]
    }
   ],
   "source": [
    "short_list = ['Gabe', 'Ben']\n",
    "names.extend(short_list)\n",
    "print(names)"
   ]
  },
  {
   "cell_type": "markdown",
   "id": "7a555c1e",
   "metadata": {},
   "source": [
    "insert() can insert element into a list anywhere in the list\n"
   ]
  },
  {
   "cell_type": "code",
   "execution_count": 4,
   "id": "93acd631",
   "metadata": {},
   "outputs": [
    {
     "name": "stdout",
     "output_type": "stream",
     "text": [
      "['Jonathan', 'JP', 'John', 'Bob', 'Luke', 'Gabe', 'Ben']\n"
     ]
    }
   ],
   "source": [
    "names.insert(0,'Jonathan')\n",
    "print(names)"
   ]
  },
  {
   "cell_type": "markdown",
   "id": "0c662c9d",
   "metadata": {},
   "source": [
    "remove() can remove element from list\n"
   ]
  },
  {
   "cell_type": "code",
   "execution_count": 6,
   "id": "abbd8970",
   "metadata": {},
   "outputs": [
    {
     "name": "stdout",
     "output_type": "stream",
     "text": [
      "['Jonathan', 'JP', 'John', 'Luke', 'Gabe', 'Ben']\n"
     ]
    }
   ],
   "source": [
    "names.remove('Bob')\n",
    "print(names)"
   ]
  },
  {
   "cell_type": "markdown",
   "id": "b89d8e9e",
   "metadata": {},
   "source": [
    "count() counts all elements in a list\n"
   ]
  },
  {
   "cell_type": "code",
   "execution_count": 10,
   "id": "13e19dc5",
   "metadata": {},
   "outputs": [
    {
     "name": "stdout",
     "output_type": "stream",
     "text": [
      "1\n"
     ]
    }
   ],
   "source": [
    "count = names.count('Jonathan')\n",
    "print(count)"
   ]
  },
  {
   "cell_type": "markdown",
   "id": "5a8e1b58",
   "metadata": {},
   "source": [
    "index() where an element is in the list\n"
   ]
  },
  {
   "cell_type": "code",
   "execution_count": 11,
   "id": "e053c3b1",
   "metadata": {},
   "outputs": [
    {
     "name": "stdout",
     "output_type": "stream",
     "text": [
      "3\n"
     ]
    }
   ],
   "source": [
    "index = names.index(\"Luke\")\n",
    "print(index)"
   ]
  },
  {
   "cell_type": "markdown",
   "id": "b72e203c",
   "metadata": {},
   "source": [
    "pop() removes element from list based on index\n"
   ]
  },
  {
   "cell_type": "code",
   "execution_count": 12,
   "id": "84fd20d5",
   "metadata": {},
   "outputs": [
    {
     "name": "stdout",
     "output_type": "stream",
     "text": [
      "['Jonathan', 'JP', 'John', 'Gabe', 'Ben']\n"
     ]
    }
   ],
   "source": [
    "names.pop(3)\n",
    "print(names)"
   ]
  },
  {
   "cell_type": "markdown",
   "id": "40f5f34a",
   "metadata": {},
   "source": [
    "sorted() sorts list based on elements values\n"
   ]
  },
  {
   "cell_type": "code",
   "execution_count": 13,
   "id": "95af8c3b",
   "metadata": {},
   "outputs": [
    {
     "data": {
      "text/plain": [
       "['Ben', 'Gabe', 'JP', 'John', 'Jonathan']"
      ]
     },
     "execution_count": 13,
     "metadata": {},
     "output_type": "execute_result"
    }
   ],
   "source": [
    "sorted(names)"
   ]
  },
  {
   "cell_type": "markdown",
   "id": "64f19925",
   "metadata": {},
   "source": [
    "copy() copies all elements in the list\n"
   ]
  },
  {
   "cell_type": "code",
   "execution_count": 15,
   "id": "866ab075",
   "metadata": {},
   "outputs": [
    {
     "name": "stdout",
     "output_type": "stream",
     "text": [
      "['Jonathan', 'JP', 'John', 'Gabe', 'Ben']\n"
     ]
    }
   ],
   "source": [
    "newlist = names.copy()\n",
    "print(newlist)"
   ]
  },
  {
   "cell_type": "markdown",
   "id": "bb675fb0",
   "metadata": {},
   "source": [
    "clear() clears list of all elements\n"
   ]
  },
  {
   "cell_type": "code",
   "execution_count": 16,
   "id": "b51ec734",
   "metadata": {},
   "outputs": [
    {
     "name": "stdout",
     "output_type": "stream",
     "text": [
      "[]\n"
     ]
    }
   ],
   "source": [
    "newlist.clear()\n",
    "print(newlist)"
   ]
  },
  {
   "cell_type": "markdown",
   "id": "96b0f3bc",
   "metadata": {},
   "source": [
    "list() creates a list object "
   ]
  },
  {
   "cell_type": "code",
   "execution_count": null,
   "id": "51cdcd6f",
   "metadata": {},
   "outputs": [],
   "source": [
    "x = list(('candy','chips','co'))"
   ]
  },
  {
   "cell_type": "markdown",
   "id": "282c0ca2",
   "metadata": {},
   "source": [
    "len() returns the number of elements in an object"
   ]
  },
  {
   "cell_type": "code",
   "execution_count": null,
   "id": "03b10caf",
   "metadata": {},
   "outputs": [],
   "source": []
  },
  {
   "cell_type": "markdown",
   "id": "864b46d8",
   "metadata": {},
   "source": [
    "max()returns the largest element in an object"
   ]
  },
  {
   "cell_type": "code",
   "execution_count": null,
   "id": "a3d58553",
   "metadata": {},
   "outputs": [],
   "source": []
  },
  {
   "cell_type": "markdown",
   "id": "d964e768",
   "metadata": {},
   "source": [
    "min() returns the smallest element in an object"
   ]
  },
  {
   "cell_type": "code",
   "execution_count": null,
   "id": "af45fead",
   "metadata": {},
   "outputs": [],
   "source": []
  }
 ],
 "metadata": {
  "kernelspec": {
   "display_name": "Python 3 (ipykernel)",
   "language": "python",
   "name": "python3"
  },
  "language_info": {
   "codemirror_mode": {
    "name": "ipython",
    "version": 3
   },
   "file_extension": ".py",
   "mimetype": "text/x-python",
   "name": "python",
   "nbconvert_exporter": "python",
   "pygments_lexer": "ipython3",
   "version": "3.9.12"
  }
 },
 "nbformat": 4,
 "nbformat_minor": 5
}
